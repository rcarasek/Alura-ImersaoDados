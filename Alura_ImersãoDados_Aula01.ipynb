{
  "nbformat": 4,
  "nbformat_minor": 0,
  "metadata": {
    "colab": {
      "name": "Alura_ImersãoDados-Aula01.ipynb",
      "provenance": [],
      "authorship_tag": "ABX9TyPP9QTdFMcw25WhRFa7QM9h",
      "include_colab_link": true
    },
    "kernelspec": {
      "name": "python3",
      "display_name": "Python 3"
    },
    "language_info": {
      "name": "python"
    }
  },
  "cells": [
    {
      "cell_type": "markdown",
      "metadata": {
        "id": "view-in-github",
        "colab_type": "text"
      },
      "source": [
        "<a href=\"https://colab.research.google.com/github/rcarasek/Alura-ImersaoDados/blob/main/Alura_Imers%C3%A3oDados_Aula01.ipynb\" target=\"_parent\"><img src=\"https://colab.research.google.com/assets/colab-badge.svg\" alt=\"Open In Colab\"/></a>"
      ]
    },
    {
      "cell_type": "code",
      "metadata": {
        "id": "7r8Sokb5QDHt"
      },
      "source": [
        "import pandas as pd\n",
        "url_dados = 'https://github.com/alura-cursos/imersaodados3/blob/main/dados/dados_experimentos.zip?raw=true'\n",
        "\n",
        "dados = pd.read_csv(url_dados, compression = 'zip')\n"
      ],
      "execution_count": 2,
      "outputs": []
    },
    {
      "cell_type": "code",
      "metadata": {
        "colab": {
          "base_uri": "https://localhost:8080/",
          "height": 160
        },
        "id": "flR4KJoUZ-Sp",
        "outputId": "c28b3424-3c9a-45eb-a2f6-5e80354287f7"
      },
      "source": [
        "dados.tail(2)"
      ],
      "execution_count": 4,
      "outputs": [
        {
          "output_type": "execute_result",
          "data": {
            "text/html": [
              "<div>\n",
              "<style scoped>\n",
              "    .dataframe tbody tr th:only-of-type {\n",
              "        vertical-align: middle;\n",
              "    }\n",
              "\n",
              "    .dataframe tbody tr th {\n",
              "        vertical-align: top;\n",
              "    }\n",
              "\n",
              "    .dataframe thead th {\n",
              "        text-align: right;\n",
              "    }\n",
              "</style>\n",
              "<table border=\"1\" class=\"dataframe\">\n",
              "  <thead>\n",
              "    <tr style=\"text-align: right;\">\n",
              "      <th></th>\n",
              "      <th>id</th>\n",
              "      <th>tratamento</th>\n",
              "      <th>tempo</th>\n",
              "      <th>dose</th>\n",
              "      <th>droga</th>\n",
              "      <th>g-0</th>\n",
              "      <th>g-1</th>\n",
              "      <th>g-2</th>\n",
              "      <th>g-3</th>\n",
              "      <th>g-4</th>\n",
              "      <th>g-5</th>\n",
              "      <th>g-6</th>\n",
              "      <th>g-7</th>\n",
              "      <th>g-8</th>\n",
              "      <th>g-9</th>\n",
              "      <th>g-10</th>\n",
              "      <th>g-11</th>\n",
              "      <th>g-12</th>\n",
              "      <th>g-13</th>\n",
              "      <th>g-14</th>\n",
              "      <th>g-15</th>\n",
              "      <th>g-16</th>\n",
              "      <th>g-17</th>\n",
              "      <th>g-18</th>\n",
              "      <th>g-19</th>\n",
              "      <th>g-20</th>\n",
              "      <th>g-21</th>\n",
              "      <th>g-22</th>\n",
              "      <th>g-23</th>\n",
              "      <th>g-24</th>\n",
              "      <th>g-25</th>\n",
              "      <th>g-26</th>\n",
              "      <th>g-27</th>\n",
              "      <th>g-28</th>\n",
              "      <th>g-29</th>\n",
              "      <th>g-30</th>\n",
              "      <th>g-31</th>\n",
              "      <th>g-32</th>\n",
              "      <th>g-33</th>\n",
              "      <th>g-34</th>\n",
              "      <th>...</th>\n",
              "      <th>c-60</th>\n",
              "      <th>c-61</th>\n",
              "      <th>c-62</th>\n",
              "      <th>c-63</th>\n",
              "      <th>c-64</th>\n",
              "      <th>c-65</th>\n",
              "      <th>c-66</th>\n",
              "      <th>c-67</th>\n",
              "      <th>c-68</th>\n",
              "      <th>c-69</th>\n",
              "      <th>c-70</th>\n",
              "      <th>c-71</th>\n",
              "      <th>c-72</th>\n",
              "      <th>c-73</th>\n",
              "      <th>c-74</th>\n",
              "      <th>c-75</th>\n",
              "      <th>c-76</th>\n",
              "      <th>c-77</th>\n",
              "      <th>c-78</th>\n",
              "      <th>c-79</th>\n",
              "      <th>c-80</th>\n",
              "      <th>c-81</th>\n",
              "      <th>c-82</th>\n",
              "      <th>c-83</th>\n",
              "      <th>c-84</th>\n",
              "      <th>c-85</th>\n",
              "      <th>c-86</th>\n",
              "      <th>c-87</th>\n",
              "      <th>c-88</th>\n",
              "      <th>c-89</th>\n",
              "      <th>c-90</th>\n",
              "      <th>c-91</th>\n",
              "      <th>c-92</th>\n",
              "      <th>c-93</th>\n",
              "      <th>c-94</th>\n",
              "      <th>c-95</th>\n",
              "      <th>c-96</th>\n",
              "      <th>c-97</th>\n",
              "      <th>c-98</th>\n",
              "      <th>c-99</th>\n",
              "    </tr>\n",
              "  </thead>\n",
              "  <tbody>\n",
              "    <tr>\n",
              "      <th>23812</th>\n",
              "      <td>id_fffcb9e7c</td>\n",
              "      <td>com_droga</td>\n",
              "      <td>24</td>\n",
              "      <td>D1</td>\n",
              "      <td>8b87a7a83</td>\n",
              "      <td>0.6660</td>\n",
              "      <td>0.2324</td>\n",
              "      <td>0.4392</td>\n",
              "      <td>0.2044</td>\n",
              "      <td>0.8531</td>\n",
              "      <td>-0.0343</td>\n",
              "      <td>0.0323</td>\n",
              "      <td>0.0463</td>\n",
              "      <td>0.4299</td>\n",
              "      <td>-0.7985</td>\n",
              "      <td>0.5742</td>\n",
              "      <td>0.1421</td>\n",
              "      <td>2.270</td>\n",
              "      <td>0.2046</td>\n",
              "      <td>0.5363</td>\n",
              "      <td>-1.733</td>\n",
              "      <td>0.145</td>\n",
              "      <td>0.6097</td>\n",
              "      <td>0.2024</td>\n",
              "      <td>0.9865</td>\n",
              "      <td>-0.7805</td>\n",
              "      <td>0.9608</td>\n",
              "      <td>0.344</td>\n",
              "      <td>2.765</td>\n",
              "      <td>0.4925</td>\n",
              "      <td>0.6698</td>\n",
              "      <td>0.2374</td>\n",
              "      <td>-0.3372</td>\n",
              "      <td>0.8771</td>\n",
              "      <td>-2.656</td>\n",
              "      <td>-0.2000</td>\n",
              "      <td>-0.2043</td>\n",
              "      <td>0.6797</td>\n",
              "      <td>-0.0248</td>\n",
              "      <td>-0.0927</td>\n",
              "      <td>...</td>\n",
              "      <td>0.336</td>\n",
              "      <td>-0.6136</td>\n",
              "      <td>0.5011</td>\n",
              "      <td>0.9261</td>\n",
              "      <td>0.4419</td>\n",
              "      <td>0.0295</td>\n",
              "      <td>0.422</td>\n",
              "      <td>0.4677</td>\n",
              "      <td>-0.1184</td>\n",
              "      <td>0.4524</td>\n",
              "      <td>0.4135</td>\n",
              "      <td>0.1356</td>\n",
              "      <td>-0.5801</td>\n",
              "      <td>0.0411</td>\n",
              "      <td>1.0240</td>\n",
              "      <td>1.034</td>\n",
              "      <td>-0.027</td>\n",
              "      <td>-0.4194</td>\n",
              "      <td>0.7403</td>\n",
              "      <td>-0.6793</td>\n",
              "      <td>-0.1423</td>\n",
              "      <td>0.7307</td>\n",
              "      <td>0.7946</td>\n",
              "      <td>-0.065</td>\n",
              "      <td>0.9038</td>\n",
              "      <td>0.2324</td>\n",
              "      <td>0.9676</td>\n",
              "      <td>1.0940</td>\n",
              "      <td>0.429</td>\n",
              "      <td>0.5187</td>\n",
              "      <td>-0.1105</td>\n",
              "      <td>0.4258</td>\n",
              "      <td>-0.2012</td>\n",
              "      <td>0.1506</td>\n",
              "      <td>1.523</td>\n",
              "      <td>0.7101</td>\n",
              "      <td>0.1732</td>\n",
              "      <td>0.7015</td>\n",
              "      <td>-0.629</td>\n",
              "      <td>0.074</td>\n",
              "    </tr>\n",
              "    <tr>\n",
              "      <th>23813</th>\n",
              "      <td>id_ffffdd77b</td>\n",
              "      <td>com_droga</td>\n",
              "      <td>72</td>\n",
              "      <td>D1</td>\n",
              "      <td>972f41291</td>\n",
              "      <td>-0.8598</td>\n",
              "      <td>1.0240</td>\n",
              "      <td>-0.1361</td>\n",
              "      <td>0.7952</td>\n",
              "      <td>-0.3611</td>\n",
              "      <td>-3.6750</td>\n",
              "      <td>-1.2420</td>\n",
              "      <td>0.9146</td>\n",
              "      <td>3.0790</td>\n",
              "      <td>1.2460</td>\n",
              "      <td>1.9460</td>\n",
              "      <td>1.4370</td>\n",
              "      <td>2.978</td>\n",
              "      <td>2.2370</td>\n",
              "      <td>-0.6818</td>\n",
              "      <td>0.687</td>\n",
              "      <td>-1.106</td>\n",
              "      <td>0.0182</td>\n",
              "      <td>-0.9247</td>\n",
              "      <td>-0.0738</td>\n",
              "      <td>-0.1919</td>\n",
              "      <td>-0.7722</td>\n",
              "      <td>-1.405</td>\n",
              "      <td>-1.005</td>\n",
              "      <td>-1.1170</td>\n",
              "      <td>-0.5293</td>\n",
              "      <td>-1.1720</td>\n",
              "      <td>-0.2885</td>\n",
              "      <td>0.1599</td>\n",
              "      <td>-0.425</td>\n",
              "      <td>0.3591</td>\n",
              "      <td>-0.1420</td>\n",
              "      <td>-0.9530</td>\n",
              "      <td>-0.2005</td>\n",
              "      <td>-1.8340</td>\n",
              "      <td>...</td>\n",
              "      <td>-6.917</td>\n",
              "      <td>-1.8640</td>\n",
              "      <td>-2.5090</td>\n",
              "      <td>-4.7130</td>\n",
              "      <td>-1.7250</td>\n",
              "      <td>-3.8650</td>\n",
              "      <td>-3.080</td>\n",
              "      <td>-4.1530</td>\n",
              "      <td>-1.2030</td>\n",
              "      <td>-1.1690</td>\n",
              "      <td>-4.1460</td>\n",
              "      <td>-1.2670</td>\n",
              "      <td>-1.1300</td>\n",
              "      <td>-2.4390</td>\n",
              "      <td>0.1591</td>\n",
              "      <td>-2.249</td>\n",
              "      <td>-2.586</td>\n",
              "      <td>-1.9520</td>\n",
              "      <td>-2.1810</td>\n",
              "      <td>-4.6690</td>\n",
              "      <td>-3.9450</td>\n",
              "      <td>-2.9560</td>\n",
              "      <td>-2.7930</td>\n",
              "      <td>-2.156</td>\n",
              "      <td>-2.4100</td>\n",
              "      <td>-1.8190</td>\n",
              "      <td>-3.3480</td>\n",
              "      <td>-0.1414</td>\n",
              "      <td>-2.643</td>\n",
              "      <td>-2.5810</td>\n",
              "      <td>-3.3890</td>\n",
              "      <td>-1.7450</td>\n",
              "      <td>-6.6300</td>\n",
              "      <td>-4.0950</td>\n",
              "      <td>-7.386</td>\n",
              "      <td>-1.4160</td>\n",
              "      <td>-3.5770</td>\n",
              "      <td>-0.4775</td>\n",
              "      <td>-2.150</td>\n",
              "      <td>-4.252</td>\n",
              "    </tr>\n",
              "  </tbody>\n",
              "</table>\n",
              "<p>2 rows × 877 columns</p>\n",
              "</div>"
            ],
            "text/plain": [
              "                 id tratamento  tempo dose  ...    c-96    c-97   c-98   c-99\n",
              "23812  id_fffcb9e7c  com_droga     24   D1  ...  0.1732  0.7015 -0.629  0.074\n",
              "23813  id_ffffdd77b  com_droga     72   D1  ... -3.5770 -0.4775 -2.150 -4.252\n",
              "\n",
              "[2 rows x 877 columns]"
            ]
          },
          "metadata": {
            "tags": []
          },
          "execution_count": 4
        }
      ]
    },
    {
      "cell_type": "code",
      "metadata": {
        "colab": {
          "base_uri": "https://localhost:8080/"
        },
        "id": "mVbM0HrtZoJd",
        "outputId": "03418219-1be8-479f-9bc0-a79865cfb391"
      },
      "source": [
        " dados['tratamento'].unique()\n"
      ],
      "execution_count": 5,
      "outputs": [
        {
          "output_type": "execute_result",
          "data": {
            "text/plain": [
              "array(['com_droga', 'com_controle'], dtype=object)"
            ]
          },
          "metadata": {
            "tags": []
          },
          "execution_count": 5
        }
      ]
    },
    {
      "cell_type": "code",
      "metadata": {
        "colab": {
          "base_uri": "https://localhost:8080/"
        },
        "id": "ZfEdgPeWrqiq",
        "outputId": "0ab11814-3119-41df-d8a6-a92bd5e50d10"
      },
      "source": [
        "dados['tempo'].unique()"
      ],
      "execution_count": 6,
      "outputs": [
        {
          "output_type": "execute_result",
          "data": {
            "text/plain": [
              "array([24, 72, 48])"
            ]
          },
          "metadata": {
            "tags": []
          },
          "execution_count": 6
        }
      ]
    },
    {
      "cell_type": "code",
      "metadata": {
        "colab": {
          "base_uri": "https://localhost:8080/"
        },
        "id": "9GilciQVsVev",
        "outputId": "d896db09-8fc6-4803-ec4a-55a8cf716be6"
      },
      "source": [
        "dados['dose'].unique()"
      ],
      "execution_count": 7,
      "outputs": [
        {
          "output_type": "execute_result",
          "data": {
            "text/plain": [
              "array(['D1', 'D2'], dtype=object)"
            ]
          },
          "metadata": {
            "tags": []
          },
          "execution_count": 7
        }
      ]
    },
    {
      "cell_type": "code",
      "metadata": {
        "colab": {
          "base_uri": "https://localhost:8080/"
        },
        "id": "n11drhl2skAQ",
        "outputId": "0ce579b0-a80c-4b0f-dce5-630b94f43a2f"
      },
      "source": [
        "dados['tratamento'].value_counts()"
      ],
      "execution_count": 8,
      "outputs": [
        {
          "output_type": "execute_result",
          "data": {
            "text/plain": [
              "com_droga       21948\n",
              "com_controle     1866\n",
              "Name: tratamento, dtype: int64"
            ]
          },
          "metadata": {
            "tags": []
          },
          "execution_count": 8
        }
      ]
    },
    {
      "cell_type": "code",
      "metadata": {
        "colab": {
          "base_uri": "https://localhost:8080/",
          "height": 339
        },
        "id": "acjMEEQ0b-8a",
        "outputId": "8c3de4c5-4365-43ef-9ef3-0ad5564dbf55"
      },
      "source": [
        "dados['tratamento'].value_counts(normalize = True).plot.bar()"
      ],
      "execution_count": 15,
      "outputs": [
        {
          "output_type": "execute_result",
          "data": {
            "text/plain": [
              "<matplotlib.axes._subplots.AxesSubplot at 0x7f84a448cb90>"
            ]
          },
          "metadata": {
            "tags": []
          },
          "execution_count": 15
        },
        {
          "output_type": "display_data",
          "data": {
            "image/png": "[encoded data removed]",
            "text/plain": [
              "<Figure size 432x288 with 1 Axes>"
            ]
          },
          "metadata": {
            "tags": [],
            "needs_background": "light"
          }
        }
      ]
    },
    {
      "cell_type": "code",
      "metadata": {
        "colab": {
          "base_uri": "https://localhost:8080/"
        },
        "id": "uqUo_YApvZGn",
        "outputId": "3ccf803e-631c-41a2-bb8c-c9a356ce0317"
      },
      "source": [
        "len(dados['droga'].unique())"
      ],
      "execution_count": 11,
      "outputs": [
        {
          "output_type": "execute_result",
          "data": {
            "text/plain": [
              "3289"
            ]
          },
          "metadata": {
            "tags": []
          },
          "execution_count": 11
        }
      ]
    },
    {
      "cell_type": "code",
      "metadata": {
        "colab": {
          "base_uri": "https://localhost:8080/"
        },
        "id": "TAGX8PxCwwgS",
        "outputId": "589d5572-dcb7-4d57-aba3-0e1407ac1c78"
      },
      "source": [
        "dados['tratamento'].value_counts(normalize = True)"
      ],
      "execution_count": 13,
      "outputs": [
        {
          "output_type": "execute_result",
          "data": {
            "text/plain": [
              "com_droga       0.921643\n",
              "com_controle    0.078357\n",
              "Name: tratamento, dtype: float64"
            ]
          },
          "metadata": {
            "tags": []
          },
          "execution_count": 13
        }
      ]
    },
    {
      "cell_type": "code",
      "metadata": {
        "colab": {
          "base_uri": "https://localhost:8080/"
        },
        "id": "B_M7F9g1anr9",
        "outputId": "ccd84f4a-83d2-49eb-a327-bac2c02d2fd1"
      },
      "source": [
        "dados['dose'].value_counts(normalize = True)"
      ],
      "execution_count": 7,
      "outputs": [
        {
          "output_type": "execute_result",
          "data": {
            "text/plain": [
              "D1    0.510078\n",
              "D2    0.489922\n",
              "Name: dose, dtype: float64"
            ]
          },
          "metadata": {
            "tags": []
          },
          "execution_count": 7
        }
      ]
    },
    {
      "cell_type": "code",
      "metadata": {
        "colab": {
          "base_uri": "https://localhost:8080/",
          "height": 285
        },
        "id": "aZwpbXuXa35P",
        "outputId": "b414e3bb-e178-421b-ca5f-11a8ce7b1f8a"
      },
      "source": [
        "dados['tempo'].value_counts().plot.bar()"
      ],
      "execution_count": 11,
      "outputs": [
        {
          "output_type": "execute_result",
          "data": {
            "text/plain": [
              "<matplotlib.axes._subplots.AxesSubplot at 0x7f84a462e390>"
            ]
          },
          "metadata": {
            "tags": []
          },
          "execution_count": 11
        },
        {
          "output_type": "display_data",
          "data": {
            "image/png": "[encoded data removed]",
            "text/plain": [
              "<Figure size 432x288 with 1 Axes>"
            ]
          },
          "metadata": {
            "tags": [],
            "needs_background": "light"
          }
        }
      ]
    },
    {
      "cell_type": "code",
      "metadata": {
        "colab": {
          "base_uri": "https://localhost:8080/"
        },
        "id": "DJwDgFFEbbBO",
        "outputId": "7a738596-34a2-4872-9ca7-d284c109a312"
      },
      "source": [
        "dados['g-0'] > 0 "
      ],
      "execution_count": 16,
      "outputs": [
        {
          "output_type": "execute_result",
          "data": {
            "text/plain": [
              "0         True\n",
              "1         True\n",
              "2         True\n",
              "3        False\n",
              "4        False\n",
              "         ...  \n",
              "23809     True\n",
              "23810    False\n",
              "23811     True\n",
              "23812     True\n",
              "23813    False\n",
              "Name: g-0, Length: 23814, dtype: bool"
            ]
          },
          "metadata": {
            "tags": []
          },
          "execution_count": 16
        }
      ]
    },
    {
      "cell_type": "code",
      "metadata": {
        "id": "YAFHowkxcc_x"
      },
      "source": [
        "dados_filtrados = dados[dados['g-0'] > 0 ]"
      ],
      "execution_count": 18,
      "outputs": []
    },
    {
      "cell_type": "code",
      "metadata": {
        "colab": {
          "base_uri": "https://localhost:8080/",
          "height": 160
        },
        "id": "3AhvFpg5e2lv",
        "outputId": "35225722-d6cc-47ad-c2e5-078939b64c33"
      },
      "source": [
        "dados_filtrados.head(2)"
      ],
      "execution_count": 20,
      "outputs": [
        {
          "output_type": "execute_result",
          "data": {
            "text/html": [
              "<div>\n",
              "<style scoped>\n",
              "    .dataframe tbody tr th:only-of-type {\n",
              "        vertical-align: middle;\n",
              "    }\n",
              "\n",
              "    .dataframe tbody tr th {\n",
              "        vertical-align: top;\n",
              "    }\n",
              "\n",
              "    .dataframe thead th {\n",
              "        text-align: right;\n",
              "    }\n",
              "</style>\n",
              "<table border=\"1\" class=\"dataframe\">\n",
              "  <thead>\n",
              "    <tr style=\"text-align: right;\">\n",
              "      <th></th>\n",
              "      <th>id</th>\n",
              "      <th>tratamento</th>\n",
              "      <th>tempo</th>\n",
              "      <th>dose</th>\n",
              "      <th>droga</th>\n",
              "      <th>g-0</th>\n",
              "      <th>g-1</th>\n",
              "      <th>g-2</th>\n",
              "      <th>g-3</th>\n",
              "      <th>g-4</th>\n",
              "      <th>g-5</th>\n",
              "      <th>g-6</th>\n",
              "      <th>g-7</th>\n",
              "      <th>g-8</th>\n",
              "      <th>g-9</th>\n",
              "      <th>g-10</th>\n",
              "      <th>g-11</th>\n",
              "      <th>g-12</th>\n",
              "      <th>g-13</th>\n",
              "      <th>g-14</th>\n",
              "      <th>g-15</th>\n",
              "      <th>g-16</th>\n",
              "      <th>g-17</th>\n",
              "      <th>g-18</th>\n",
              "      <th>g-19</th>\n",
              "      <th>g-20</th>\n",
              "      <th>g-21</th>\n",
              "      <th>g-22</th>\n",
              "      <th>g-23</th>\n",
              "      <th>g-24</th>\n",
              "      <th>g-25</th>\n",
              "      <th>g-26</th>\n",
              "      <th>g-27</th>\n",
              "      <th>g-28</th>\n",
              "      <th>g-29</th>\n",
              "      <th>g-30</th>\n",
              "      <th>g-31</th>\n",
              "      <th>g-32</th>\n",
              "      <th>g-33</th>\n",
              "      <th>g-34</th>\n",
              "      <th>...</th>\n",
              "      <th>c-60</th>\n",
              "      <th>c-61</th>\n",
              "      <th>c-62</th>\n",
              "      <th>c-63</th>\n",
              "      <th>c-64</th>\n",
              "      <th>c-65</th>\n",
              "      <th>c-66</th>\n",
              "      <th>c-67</th>\n",
              "      <th>c-68</th>\n",
              "      <th>c-69</th>\n",
              "      <th>c-70</th>\n",
              "      <th>c-71</th>\n",
              "      <th>c-72</th>\n",
              "      <th>c-73</th>\n",
              "      <th>c-74</th>\n",
              "      <th>c-75</th>\n",
              "      <th>c-76</th>\n",
              "      <th>c-77</th>\n",
              "      <th>c-78</th>\n",
              "      <th>c-79</th>\n",
              "      <th>c-80</th>\n",
              "      <th>c-81</th>\n",
              "      <th>c-82</th>\n",
              "      <th>c-83</th>\n",
              "      <th>c-84</th>\n",
              "      <th>c-85</th>\n",
              "      <th>c-86</th>\n",
              "      <th>c-87</th>\n",
              "      <th>c-88</th>\n",
              "      <th>c-89</th>\n",
              "      <th>c-90</th>\n",
              "      <th>c-91</th>\n",
              "      <th>c-92</th>\n",
              "      <th>c-93</th>\n",
              "      <th>c-94</th>\n",
              "      <th>c-95</th>\n",
              "      <th>c-96</th>\n",
              "      <th>c-97</th>\n",
              "      <th>c-98</th>\n",
              "      <th>c-99</th>\n",
              "    </tr>\n",
              "  </thead>\n",
              "  <tbody>\n",
              "    <tr>\n",
              "      <th>0</th>\n",
              "      <td>id_000644bb2</td>\n",
              "      <td>com_droga</td>\n",
              "      <td>24</td>\n",
              "      <td>D1</td>\n",
              "      <td>b68db1d53</td>\n",
              "      <td>1.0620</td>\n",
              "      <td>0.5577</td>\n",
              "      <td>-0.2479</td>\n",
              "      <td>-0.6208</td>\n",
              "      <td>-0.1944</td>\n",
              "      <td>-1.0120</td>\n",
              "      <td>-1.0220</td>\n",
              "      <td>-0.0326</td>\n",
              "      <td>0.5548</td>\n",
              "      <td>-0.0921</td>\n",
              "      <td>1.183</td>\n",
              "      <td>0.1530</td>\n",
              "      <td>0.5574</td>\n",
              "      <td>-0.4015</td>\n",
              "      <td>0.1789</td>\n",
              "      <td>-0.6528</td>\n",
              "      <td>-0.7969</td>\n",
              "      <td>0.6342</td>\n",
              "      <td>0.1778</td>\n",
              "      <td>-0.3694</td>\n",
              "      <td>-0.5688</td>\n",
              "      <td>-1.1360</td>\n",
              "      <td>-1.1880</td>\n",
              "      <td>0.6940</td>\n",
              "      <td>0.4393</td>\n",
              "      <td>0.2664</td>\n",
              "      <td>0.1907</td>\n",
              "      <td>0.1628</td>\n",
              "      <td>-0.2853</td>\n",
              "      <td>0.5819</td>\n",
              "      <td>0.2934</td>\n",
              "      <td>-0.5584</td>\n",
              "      <td>-0.0916</td>\n",
              "      <td>-0.3010</td>\n",
              "      <td>-0.1537</td>\n",
              "      <td>...</td>\n",
              "      <td>0.4805</td>\n",
              "      <td>0.4965</td>\n",
              "      <td>0.3680</td>\n",
              "      <td>0.8427</td>\n",
              "      <td>0.1042</td>\n",
              "      <td>0.1403</td>\n",
              "      <td>0.1758</td>\n",
              "      <td>1.2570</td>\n",
              "      <td>-0.5979</td>\n",
              "      <td>1.2250</td>\n",
              "      <td>-0.0553</td>\n",
              "      <td>0.7351</td>\n",
              "      <td>0.5810</td>\n",
              "      <td>0.9590</td>\n",
              "      <td>0.2427</td>\n",
              "      <td>0.0495</td>\n",
              "      <td>0.4141</td>\n",
              "      <td>0.8432</td>\n",
              "      <td>0.6162</td>\n",
              "      <td>-0.7318</td>\n",
              "      <td>1.2120</td>\n",
              "      <td>0.6362</td>\n",
              "      <td>-0.4427</td>\n",
              "      <td>0.1288</td>\n",
              "      <td>1.4840</td>\n",
              "      <td>0.1799</td>\n",
              "      <td>0.5367</td>\n",
              "      <td>-0.1111</td>\n",
              "      <td>-1.0120</td>\n",
              "      <td>0.6685</td>\n",
              "      <td>0.2862</td>\n",
              "      <td>0.2584</td>\n",
              "      <td>0.8076</td>\n",
              "      <td>0.5523</td>\n",
              "      <td>-0.1912</td>\n",
              "      <td>0.6584</td>\n",
              "      <td>-0.3981</td>\n",
              "      <td>0.2139</td>\n",
              "      <td>0.3801</td>\n",
              "      <td>0.4176</td>\n",
              "    </tr>\n",
              "    <tr>\n",
              "      <th>1</th>\n",
              "      <td>id_000779bfc</td>\n",
              "      <td>com_droga</td>\n",
              "      <td>72</td>\n",
              "      <td>D1</td>\n",
              "      <td>df89a8e5a</td>\n",
              "      <td>0.0743</td>\n",
              "      <td>0.4087</td>\n",
              "      <td>0.2991</td>\n",
              "      <td>0.0604</td>\n",
              "      <td>1.0190</td>\n",
              "      <td>0.5207</td>\n",
              "      <td>0.2341</td>\n",
              "      <td>0.3372</td>\n",
              "      <td>-0.4047</td>\n",
              "      <td>0.8507</td>\n",
              "      <td>-1.152</td>\n",
              "      <td>-0.4201</td>\n",
              "      <td>-0.0958</td>\n",
              "      <td>0.4590</td>\n",
              "      <td>0.0803</td>\n",
              "      <td>0.2250</td>\n",
              "      <td>0.5293</td>\n",
              "      <td>0.2839</td>\n",
              "      <td>-0.3494</td>\n",
              "      <td>0.2883</td>\n",
              "      <td>0.9449</td>\n",
              "      <td>-0.1646</td>\n",
              "      <td>-0.2657</td>\n",
              "      <td>-0.3372</td>\n",
              "      <td>0.3135</td>\n",
              "      <td>-0.4316</td>\n",
              "      <td>0.4773</td>\n",
              "      <td>0.2075</td>\n",
              "      <td>-0.4216</td>\n",
              "      <td>-0.1161</td>\n",
              "      <td>-0.0499</td>\n",
              "      <td>-0.2627</td>\n",
              "      <td>0.9959</td>\n",
              "      <td>-0.2483</td>\n",
              "      <td>0.2655</td>\n",
              "      <td>...</td>\n",
              "      <td>0.4083</td>\n",
              "      <td>0.0319</td>\n",
              "      <td>0.3905</td>\n",
              "      <td>0.7099</td>\n",
              "      <td>0.2912</td>\n",
              "      <td>0.4151</td>\n",
              "      <td>-0.2840</td>\n",
              "      <td>-0.3104</td>\n",
              "      <td>-0.6373</td>\n",
              "      <td>0.2887</td>\n",
              "      <td>-0.0765</td>\n",
              "      <td>0.2539</td>\n",
              "      <td>0.4443</td>\n",
              "      <td>0.5932</td>\n",
              "      <td>0.2031</td>\n",
              "      <td>0.7639</td>\n",
              "      <td>0.5499</td>\n",
              "      <td>-0.3322</td>\n",
              "      <td>-0.0977</td>\n",
              "      <td>0.4329</td>\n",
              "      <td>-0.2782</td>\n",
              "      <td>0.7827</td>\n",
              "      <td>0.5934</td>\n",
              "      <td>0.3402</td>\n",
              "      <td>0.1499</td>\n",
              "      <td>0.4420</td>\n",
              "      <td>0.9366</td>\n",
              "      <td>0.8193</td>\n",
              "      <td>-0.4236</td>\n",
              "      <td>0.3192</td>\n",
              "      <td>-0.4265</td>\n",
              "      <td>0.7543</td>\n",
              "      <td>0.4708</td>\n",
              "      <td>0.0230</td>\n",
              "      <td>0.2957</td>\n",
              "      <td>0.4899</td>\n",
              "      <td>0.1522</td>\n",
              "      <td>0.1241</td>\n",
              "      <td>0.6077</td>\n",
              "      <td>0.7371</td>\n",
              "    </tr>\n",
              "  </tbody>\n",
              "</table>\n",
              "<p>2 rows × 877 columns</p>\n",
              "</div>"
            ],
            "text/plain": [
              "             id tratamento  tempo dose  ...    c-96    c-97    c-98    c-99\n",
              "0  id_000644bb2  com_droga     24   D1  ... -0.3981  0.2139  0.3801  0.4176\n",
              "1  id_000779bfc  com_droga     72   D1  ...  0.1522  0.1241  0.6077  0.7371\n",
              "\n",
              "[2 rows x 877 columns]"
            ]
          },
          "metadata": {
            "tags": []
          },
          "execution_count": 20
        }
      ]
    },
    {
      "cell_type": "code",
      "metadata": {
        "id": "l48UzEZWfCJu"
      },
      "source": [
        "  "
      ],
      "execution_count": null,
      "outputs": []
    }
  ]
}